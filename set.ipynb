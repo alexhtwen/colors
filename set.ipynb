{
 "cells": [
  {
   "cell_type": "code",
   "execution_count": 7,
   "metadata": {},
   "outputs": [
    {
     "data": {
      "text/plain": [
       "{0, 1, 3, 7, 8, 9}"
      ]
     },
     "execution_count": 7,
     "metadata": {},
     "output_type": "execute_result"
    },
    {
     "data": {
      "text/plain": [
       "3"
      ]
     },
     "execution_count": 7,
     "metadata": {},
     "output_type": "execute_result"
    },
    {
     "data": {
      "text/plain": [
       "{0, 1, 2, 3, 4, 7, 8, 9, '9'}"
      ]
     },
     "execution_count": 7,
     "metadata": {},
     "output_type": "execute_result"
    }
   ],
   "source": [
    "from typeutil import is_hashable\n",
    "\n",
    "\n",
    "class RobustSet(set):\n",
    "    def __init__(self, s: set):\n",
    "        super().__init__()\n",
    "        self.__set = s\n",
    "\n",
    "    def add(self, elements: list | tuple | set):\n",
    "        # if set(hashable_elements := [element for element in elements if is_hashable(element)]).issubset(self.__set):\n",
    "        tmp_set = self.__set.copy()\n",
    "        # added_count = 0\n",
    "        for element in (hashable_elements := [element for element in elements if is_hashable(element)]):\n",
    "            self.__set.add(element)\n",
    "\n",
    "        return len(self.__set) - len(tmp_set)\n",
    "\n",
    "    def discard(self, element: set):\n",
    "        if element in self.__set:\n",
    "            return_value = True\n",
    "        else:\n",
    "            return_value = False\n",
    "        self.__set.discard(element)\n",
    "        return return_value\n",
    "\n",
    "    def remove(self, elements: list | tuple | set):\n",
    "        if set(hashable_elements := [element for element in elements if is_hashable(element)]).issubset(self.__set):\n",
    "            return_value = True\n",
    "        else:\n",
    "            return_value = False\n",
    "\n",
    "        for hashable_element in hashable_elements:\n",
    "            if hashable_element in self.__set:\n",
    "                self.__set.remove(hashable_element)\n",
    "        return return_value\n",
    "\n",
    "    def replace(self, old: list | tuple | set, new: object) -> None:\n",
    "        self.remove(old)\n",
    "        self.add(new)\n",
    "        return None\n",
    "\n",
    "\n",
    "    def show(self):\n",
    "        return self.__set\n",
    "\n",
    "# my_set = RobustSet({4, 7, 3, 3, 2, 0, 6})\n",
    "# my_set = RobustSet({1, 8, 3, 0})\n",
    "# my_set.show()\n",
    "\n",
    "# print(my_set.discard(45))\n",
    "# my_set.show()\n",
    "\n",
    "# print(my_set.remove([45, 4, [7], 1, 'A', False, True, None]))\n",
    "# my_set.show()\n",
    "# my_set = RobustSet({1, 8, 7, 0, 9, 3})\n",
    "# my_set.remove([4, 8])\n",
    "# my_set.show()\n",
    "\n",
    "# my_set = RobustSet({1, 8, 7, 0, 9, 3})\n",
    "# my_set.remove((4, 8))\n",
    "# my_set.show()\n",
    "\n",
    "# my_set = RobustSet({1, 8, 7, 0, 9, 3})\n",
    "# my_set.remove({4, 8})\n",
    "# my_set.show()\n",
    "\n",
    "\n",
    "my_set = RobustSet({1, 8, 7, 0, 9, 3})\n",
    "my_set.show()\n",
    "my_set.add([4, [8], -0, {1}, '9', 4, 3, 2, 3])\n",
    "my_set.show()"
   ]
  },
  {
   "cell_type": "code",
   "execution_count": 4,
   "metadata": {},
   "outputs": [
    {
     "data": {
      "text/plain": [
       "{3, 5, 6, 8}"
      ]
     },
     "execution_count": 4,
     "metadata": {},
     "output_type": "execute_result"
    },
    {
     "name": "stdout",
     "output_type": "stream",
     "text": [
      "None\n"
     ]
    },
    {
     "data": {
      "text/plain": [
       "{3, 5, 6, 8}"
      ]
     },
     "execution_count": 4,
     "metadata": {},
     "output_type": "execute_result"
    }
   ],
   "source": [
    "s = {6, 8, 3, 5}\n",
    "s\n",
    "print(s.add(8))\n",
    "s"
   ]
  }
 ],
 "metadata": {
  "kernelspec": {
   "display_name": "Python 3",
   "language": "python",
   "name": "python3"
  },
  "language_info": {
   "codemirror_mode": {
    "name": "ipython",
    "version": 3
   },
   "file_extension": ".py",
   "mimetype": "text/x-python",
   "name": "python",
   "nbconvert_exporter": "python",
   "pygments_lexer": "ipython3",
   "version": "3.12.1"
  }
 },
 "nbformat": 4,
 "nbformat_minor": 2
}
