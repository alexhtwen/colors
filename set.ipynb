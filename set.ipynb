{
 "cells": [
  {
   "cell_type": "markdown",
   "metadata": {},
   "source": [
    "<div style=\"font-family: 'Gen Jyuu Gothic Monospace Medium', 'Noto Sans TC', 'Inconsolata'; font-size: 600%; font-weight: 700; text-align: center; color: DarkSeaGreen;\">\n",
    "自訂set實作\n",
    "</div>\n",
    "\n",
    "<div style=\"font-family: 'Inconsolata', 'Noto Sans TC'; font-size: 135%; color: Gainsboro\">\n",
    "\n",
    "* 實作完整的set談何容易，要顧及的底層細節非常多，很可能超出筆者的能力。\n",
    "* 所以本文的自訂set，只是修改Python set的一小部分，練功成份大於實用。\n",
    "\n",
    "</div>\n",
    "<br><br>"
   ]
  },
  {
   "cell_type": "code",
   "execution_count": null,
   "metadata": {},
   "outputs": [],
   "source": [
    "# from colors import Colors\n",
    "# import random as rd\n",
    "\n",
    "# print(f'{Colors.Fore.MAGENTA}{Colors.Back.YELLOW}*黃底洋紅字*')\n",
    "# print(f'\\033[38;2;229;198;105m**設定輸出顏色**')\n",
    "# print(f'\\033[38;2;255;215;0mGold Gold')\n",
    "# print(f'{chr(27)}[38;2;{(r := rd.randint(0, 255))};{(g := rd.randint(0, 255))};{(b := rd.randint(0, 255))}m\\x1b[48;2;{r};{g};{b}mHello, world.')\n"
   ]
  },
  {
   "cell_type": "code",
   "execution_count": null,
   "metadata": {},
   "outputs": [],
   "source": [
    "%%javascript\n",
    "// 設定output文字顏色\n",
    "document.styleSheets[0].addRule('body', 'color: #A8CAEA !important;')"
   ]
  },
  {
   "cell_type": "code",
   "execution_count": null,
   "metadata": {},
   "outputs": [],
   "source": [
    "print('Hello')"
   ]
  },
  {
   "cell_type": "markdown",
   "metadata": {},
   "source": [
    "<div style=\"color: SteelBlue; font-family: 'Ubuntu Mono', 'Inconsolata', 'Noto Sans TC'; font-size: 300%; font-weight: 700;\">\n",
    "先複習Python的set\n",
    "</div>\n",
    "<br>\n",
    "<div style=\"font-family: 'Inconsolata', 'Noto Sans TC'; font-size: 135%; color: Gainsboro\">\n",
    "\n",
    "* set的notation\n",
    "* set的特性\n",
    "* 建立空set\n",
    "* 運算子和方法\n"
   ]
  },
  {
   "cell_type": "markdown",
   "metadata": {},
   "source": [
    "<div style=\"color: DarkSalmon; font-family: 'Ubuntu Mono', 'Inconsolata', 'Noto Sans TC'; font-size: 250%; font-weight: 700;\">\n",
    "set的notation\n",
    "</div>\n",
    "<br>\n",
    "<div style=\"font-family: 'Inconsolata', 'Noto Sans TC'; font-size: 135%; color: Gainsboro\">\n",
    "\n",
    "* set是用大括號(花括弧)`{}`作為前後綴符號，例如：\n",
    "* `elements = {'Python', 'JS', 'C++', 'Java'}`"
   ]
  },
  {
   "cell_type": "markdown",
   "metadata": {},
   "source": [
    "<div style=\"color: DarkSalmon; font-family: 'Ubuntu Mono', 'Inconsolata', 'Noto Sans TC'; font-size: 250%; font-weight: 700;\">\n",
    "set的特性\n",
    "</div>\n",
    "<br>\n",
    "<div style=\"font-family: 'Inconsolata', 'Noto Sans TC'; font-size: 135%; color: Gainsboro\">\n",
    "\n",
    "* 每個元素都是唯一(unique)，不會重複。\n",
    "* 元素的順序無法保證(unordered)。 \n",
    "* 可新增、刪除元素，但不能修改元素的值。\n",
    "* 可用迴圈(通常用for loop)迭代。所以set是`iterable`。\n",
    "* 由於不保證元素位置，set並無索引(index)，當然也沒有切片(slice)。所以set非`sequence`。\n",
    "* set的元素不可以是unhashable物件。"
   ]
  },
  {
   "cell_type": "markdown",
   "metadata": {},
   "source": [
    "<div style=\"color: Turquoise; font-family: 'Ubuntu Mono', 'Inconsolata', 'Noto Sans TC'; font-size: 200%; font-weight: 700;\">\n",
    "補充說明\n",
    "</div>\n",
    "<br>\n",
    "<div style=\"font-family: 'Inconsolata', 'Noto Sans TC'; font-size: 135%; color: Gainsboro\">\n",
    "\n",
    "* `iterable` vs `sequence`：\n",
    "    * `iterable`在這裡是名詞，非形容詞。意指「可迭代的物件」。\n",
    "    * `sequence`是`iterable`的一個「特例」(a more specific type of iterable)，特點是有索引，可以進行切片運算(slicing operations)。\n",
    "    * 從set theory角度看這兩者，可以說`sequences`是`iterables`的subset，`iterables`則是`sequences`的superset。\n",
    "* 我們說某物件是hashable，意思是它有一個`hash value`，這個value在該物件的生命周期內都不會改變。An object is hashable if it has a hash value that does not change during its lifetime.\n",
    "* 一個簡易但不精準的識別hashability方法是：immutable物件大致上是hashable，mutable物件則多半是unhashable。兩者高度相關，但非絕對。誠如ChapGPT所說：\n",
    "    <div style=\"color: LightSkyBlue; font-size: 90%;\">\n",
    "        \n",
    "    > ...while there is a strong correlation between immutability and hashability in Python, the rule is not absolute. Hashability is more about whether an object’s hash value remains constant throughout its lifetime rather than just its mutability or immutability status.\n",
    "    </div>"
   ]
  },
  {
   "cell_type": "markdown",
   "metadata": {},
   "source": [
    "<div style=\"font-family: 'Inconsolata', 'Noto Sans TC'; font-size: 200%; color: GoldenRod; text-align: center;\">\n",
    "各位請打開麥克風\n",
    "</div>"
   ]
  },
  {
   "cell_type": "code",
   "execution_count": null,
   "metadata": {},
   "outputs": [],
   "source": [
    "# 每個元素都是唯一(unique)，不會重複。\n",
    "elements = {1, 9, 6, 4, 1, 4, 1}\n",
    "print(f'{elements = }')"
   ]
  },
  {
   "cell_type": "code",
   "execution_count": null,
   "metadata": {},
   "outputs": [],
   "source": [
    "# 元素的順序無法保證(unordered)。\n",
    "elements = {3, 3.1416, '0', None, True, ()}\n",
    "print(f'{elements = }')"
   ]
  },
  {
   "cell_type": "code",
   "execution_count": null,
   "metadata": {},
   "outputs": [],
   "source": [
    "# 可新增、刪除元素，但不能修改元素的值。\n",
    "...   # 稍後詳說\n"
   ]
  },
  {
   "cell_type": "code",
   "execution_count": null,
   "metadata": {},
   "outputs": [],
   "source": [
    "# 可用迴圈迭代。\n",
    "elements = {8, 3, '0', None, True}\n",
    "for element in elements:\n",
    "    print(f'{element = }')"
   ]
  },
  {
   "cell_type": "code",
   "execution_count": null,
   "metadata": {},
   "outputs": [],
   "source": [
    "# 沒有索引(index)和切片(slice)。\n",
    "elements = {0, 1, 2, 3, 4}\n",
    "print(f'{elements = }')\n",
    "print(elements[1])\n",
    "# print(elements[:1])"
   ]
  },
  {
   "cell_type": "code",
   "execution_count": null,
   "metadata": {},
   "outputs": [],
   "source": [
    "# 元素不可以為unhashable物件。\n",
    "elements = {2, '4', True, None, ()}\n",
    "# elements = {2, '4', True, None, (), ([],)}\n",
    "print(f'{elements = }')"
   ]
  },
  {
   "cell_type": "markdown",
   "metadata": {},
   "source": [
    "<div style=\"color: DarkSalmon; font-family: 'Ubuntu Mono', 'Inconsolata', 'Noto Sans TC'; font-size: 250%; font-weight: 700;\">\n",
    "建立空set\n",
    "</div>\n",
    "<br>\n",
    "<div style=\"font-family: 'Inconsolata', 'Noto Sans TC'; font-size: 150%; color: Gainsboro\">\n",
    "\n",
    "1. `set1 = set()`\n",
    "2. `set2 = {}`"
   ]
  },
  {
   "cell_type": "markdown",
   "metadata": {},
   "source": [
    "<div style=\"text-align:center\"><img src=\"https://hackmd.io/_uploads/SyI5hFsS3.png\" width=\"400\"/></div>"
   ]
  },
  {
   "cell_type": "code",
   "execution_count": null,
   "metadata": {},
   "outputs": [],
   "source": [
    "# 建立空set。\n",
    "set1 = set()\n",
    "set2 = {}\n",
    "\n",
    "print(f'{set1 = }\\t{type(set1) = }')\n",
    "print(f'{set2 = }\\t{type(set2) = }')"
   ]
  },
  {
   "cell_type": "markdown",
   "metadata": {},
   "source": [
    "<div style=\"text-align:center\"><img src=\"https://hackmd.io/_uploads/ryRk_EdwT.jpg\" width=\"400\"/></div>"
   ]
  },
  {
   "cell_type": "markdown",
   "metadata": {},
   "source": [
    "<div style=\"color: DarkSalmon; font-family: 'Ubuntu Mono', 'Inconsolata', 'Noto Sans TC'; font-size: 250%; font-weight: 700;\">\n",
    "運算子和方法\n",
    "</div>\n",
    "<br>\n",
    "<div style=\"font-family: 'Inconsolata', 'Noto Sans TC'; font-size: 135%; color: Gainsboro\">\n",
    "\n",
    "* set提供以下運算子(operators)和對應方法(methods)：\n",
    "    <div style=\"font-family: 'Inconsolata', 'Noto Sans TC'; font-size: 85%; color: Gainsboro\">\n",
    "    \n",
    "    |運算子|方法|中文|範例 / 說明|\n",
    "    |--|--|--|--|\n",
    "    |\\||union()|聯集|<ol><li>set1 \\| set2</li><li>set1.union(set2)</li></ol>|\n",
    "    |&|intersection()|交集|<ol><li>set1 & set2</li><li>set1.intersection(set2)|\n",
    "    |-|difference()|差集|<ol><li>set1 - set2</li><li>set1.difference(set2)|\n",
    "    |^|symmetric_difference()|對稱差|<ol><li>set1 ^ set2</li><li>set1.symmetric_difference(set2)|\n",
    "    |<=|issubset()|子集|<ol><li>set1 <= set2</li><li>set1.issubset(set2)|\n",
    "    |<|proper subset|真子集|<ol><li>set1 < set2</li><li>set1.issubset(set2) and<br>set1 != set2|\n",
    "    |>=|issuperset()|超集|<ol><li>set1 >= set2</li><li>set1.issuperset(set2)|\n",
    "    |>|proper superset|真超集|<ol><li>set1 > set2</li><li>set1.issuperset(set2) and<br>set1 != set2|\n",
    "    |\\|=|update()||add elements from all  others.|\n",
    "    |&=|intersection_update()||keep only elements found<br>in it and all others.|\n",
    "    |-=|difference_update()||remove elements found in<br>others.|\n",
    "    |^=|symmetric_difference_update()||keep only elements found in<br>either set, but not in both.|\n",
    "    </div>\n",
    "* Python的set沒有提供`+`和`*`運算子。\n",
    "</div>"
   ]
  },
  {
   "cell_type": "code",
   "execution_count": null,
   "metadata": {},
   "outputs": [],
   "source": [
    "# union\n",
    "set1 = {1, 2, 3, 4, 5}\n",
    "set2 = {8, 7, 6, 5, 4}\n",
    "\n",
    "print(f'{set1 = }')\n",
    "print(f'{set2 = }')\n",
    "print(f'{set1 | set2      = }')\n",
    "print(f'{set1.union(set2) = }')\n",
    "print(f'{set1 = }')\n",
    "print(f'{set2 = }')"
   ]
  },
  {
   "cell_type": "code",
   "execution_count": null,
   "metadata": {},
   "outputs": [],
   "source": [
    "# intersection\n",
    "set1 = {1, 2, 3, 4, 5}\n",
    "set2 = {8, 7, 6, 5, 4}\n",
    "\n",
    "print(f'{set1 = }')\n",
    "print(f'{set2 = }')\n",
    "print(f'{set1 & set2             = }')\n",
    "print(f'{set1.intersection(set2) = }')\n",
    "print(f'{set1 = }')\n",
    "print(f'{set2 = }')"
   ]
  },
  {
   "cell_type": "code",
   "execution_count": null,
   "metadata": {},
   "outputs": [],
   "source": [
    "# difference\n",
    "set1 = {1, 2, 3, 4, 5}\n",
    "set2 = {8, 7, 6, 5, 4}\n",
    "\n",
    "print(f'{set1 = }')\n",
    "print(f'{set2 = }')\n",
    "print(f'{set1 - set2           = }')\n",
    "print(f'{set1.difference(set2) = }')\n",
    "print(f'{set1 = }')\n",
    "print(f'{set2 = }')"
   ]
  },
  {
   "cell_type": "code",
   "execution_count": null,
   "metadata": {},
   "outputs": [],
   "source": [
    "# symmetric difference\n",
    "set1 = {1, 2, 3, 4, 5}\n",
    "set2 = {8, 7, 6, 5, 4}\n",
    "\n",
    "print(f'{set1 = }')\n",
    "print(f'{set2 = }')\n",
    "print(f'{set1 ^ set2                     = }')\n",
    "print(f'{set1.symmetric_difference(set2) = }')\n",
    "print(f'{set1 = }')\n",
    "print(f'{set2 = }')"
   ]
  },
  {
   "cell_type": "code",
   "execution_count": null,
   "metadata": {},
   "outputs": [],
   "source": [
    "# subset\n",
    "set1 = {1, 2, 3, 4, 5}\n",
    "set2 = {5, 4, 3}\n",
    "\n",
    "print(f'{set1 = }')\n",
    "print(f'{set2 = }')\n",
    "print(f'{set1 <= set2        = }')\n",
    "print(f'{set1.issubset(set2) = }\\n')\n",
    "\n",
    "set1 = {3, 5, 1}\n",
    "set2 = {1, 2, 3, 4, 5}\n",
    "print(f'{set1 = }')\n",
    "print(f'{set2 = }')\n",
    "print(f'{set1 <= set2        = }')\n",
    "print(f'{set1.issubset(set2) = }\\n')\n",
    "\n",
    "set1 = {1, 2, 3, 4, 5}\n",
    "set2 = {5, 4, 3, 2, 1}\n",
    "print(f'{set1 = }')\n",
    "print(f'{set2 = }')\n",
    "print(f'{set1 <= set2        = }')\n",
    "print(f'{set1.issubset(set2) = }')"
   ]
  },
  {
   "cell_type": "code",
   "execution_count": null,
   "metadata": {},
   "outputs": [],
   "source": [
    "# proper subset\n",
    "set1 = {1, 2, 3, 4, 5}\n",
    "set2 = {5, 4, 3}\n",
    "\n",
    "print(f'{set1 = }')\n",
    "print(f'{set2 = }')\n",
    "print(f'{set1 < set2                            = }')\n",
    "print(f'{(set1.issubset(set2) and set1 != set2) = }\\n')\n",
    "\n",
    "set1 = {3, 5, 1}\n",
    "set2 = {1, 2, 3, 4, 5}\n",
    "print(f'{set1 = }')\n",
    "print(f'{set2 = }')\n",
    "print(f'{set1 < set2                            = }')\n",
    "print(f'{(set1.issubset(set2) and set1 != set2) = }\\n')\n",
    "\n",
    "set1 = {1, 2, 3, 4, 5}\n",
    "set2 = {5, 4, 3, 2, 1}\n",
    "print(f'{set1 = }')\n",
    "print(f'{set2 = }')\n",
    "print(f'{set1 < set2                            = }')\n",
    "print(f'{(set1.issubset(set2) and set1 != set2) = }')"
   ]
  },
  {
   "cell_type": "code",
   "execution_count": null,
   "metadata": {},
   "outputs": [],
   "source": [
    "# superset\n",
    "set1 = {1, 2, 3, 4, 5}\n",
    "set2 = {5, 4, 3}\n",
    "\n",
    "print(f'{set1 = }')\n",
    "print(f'{set2 = }')\n",
    "print(f'{set1 >= set2          = }')\n",
    "print(f'{set1.issuperset(set2) = }\\n')\n",
    "\n",
    "set1 = {3, 5, 1}\n",
    "set2 = {1, 2, 3, 4, 5}\n",
    "print(f'{set1 = }')\n",
    "print(f'{set2 = }')\n",
    "print(f'{set1 >= set2          = }')\n",
    "print(f'{set1.issuperset(set2) = }\\n')\n",
    "\n",
    "set1 = {1, 2, 3, 4, 5}\n",
    "set2 = {5, 4, 3, 2, 1}\n",
    "print(f'{set1 = }')\n",
    "print(f'{set2 = }')\n",
    "print(f'{set1 >= set2          = }')\n",
    "print(f'{set1.issuperset(set2) = }')"
   ]
  },
  {
   "cell_type": "code",
   "execution_count": null,
   "metadata": {},
   "outputs": [],
   "source": [
    "# proper superset\n",
    "set1 = {1, 2, 3, 4, 5}\n",
    "set2 = {5, 4, 3}\n",
    "\n",
    "print(f'{set1 = }')\n",
    "print(f'{set2 = }')\n",
    "print(f'{set1 > set2                              = }')\n",
    "print(f'{(set1.issuperset(set2) and set1 != set2) = }\\n')\n",
    "\n",
    "set1 = {3, 5, 1}\n",
    "set2 = {1, 2, 3, 4, 5}\n",
    "print(f'{set1 = }')\n",
    "print(f'{set2 = }')\n",
    "print(f'{set1 > set2                              = }')\n",
    "print(f'{(set1.issuperset(set2) and set1 != set2) = }\\n')\n",
    "\n",
    "set1 = {1, 2, 3, 4, 5}\n",
    "set2 = {5, 4, 3, 2, 1}\n",
    "print(f'{set1 = }')\n",
    "print(f'{set2 = }')\n",
    "print(f'{set1 > set2                              = }')\n",
    "print(f'{(set1.issuperset(set2) and set1 != set2) = }')"
   ]
  },
  {
   "cell_type": "code",
   "execution_count": null,
   "metadata": {},
   "outputs": [],
   "source": [
    "# update(add elements from all others.)\n",
    "set1 = {1, 2, 3, 4, 5}\n",
    "set2 = {7, 6, 5, 4, 3}\n",
    "\n",
    "print(f'{set1 = }')\n",
    "print(f'{set2 = }\\n')\n",
    "set1 |= set2\n",
    "print(f'{set1 = }')\n",
    "print(f'{set2 = }')"
   ]
  },
  {
   "cell_type": "code",
   "execution_count": null,
   "metadata": {},
   "outputs": [],
   "source": [
    "# intersection_update(keep only elements found in it and all others.)\n",
    "set1 = {1, 2, 3, 4, 5}\n",
    "set2 = {7, 6, 5, 4, 3}\n",
    "\n",
    "print(f'{set1 = }')\n",
    "print(f'{set2 = }\\n')\n",
    "set1 &= set2\n",
    "print(f'{set1 = }')\n",
    "print(f'{set2 = }')"
   ]
  },
  {
   "cell_type": "code",
   "execution_count": null,
   "metadata": {},
   "outputs": [],
   "source": [
    "# difference_update(remove elements found in others.)\n",
    "set1 = {1, 2, 3, 4, 5}\n",
    "set2 = {7, 6, 5, 4, 3}\n",
    "\n",
    "print(f'{set1 = }')\n",
    "print(f'{set2 = }\\n')\n",
    "set1 -= set2\n",
    "print(f'{set1 = }')\n",
    "print(f'{set2 = }')"
   ]
  },
  {
   "cell_type": "code",
   "execution_count": null,
   "metadata": {},
   "outputs": [],
   "source": [
    "# symmetric_difference_update(keep only elements found in either set,\n",
    "# but not in both.)\n",
    "set1 = {1, 2, 3, 4, 5}\n",
    "set2 = {7, 6, 5, 4, 3}\n",
    "\n",
    "print(f'{set1 = }')\n",
    "print(f'{set2 = }\\n')\n",
    "set1 ^= set2\n",
    "print(f'{set1 = }')\n",
    "print(f'{set2 = }')"
   ]
  },
  {
   "cell_type": "markdown",
   "metadata": {},
   "source": [
    "<div style=\"text-align:center\"><img src=\"https://hackmd.io/_uploads/ryRk_EdwT.jpg\" width=\"400\"/></div>"
   ]
  },
  {
   "cell_type": "markdown",
   "metadata": {},
   "source": [
    "<div style=\"color: DarkSalmon; font-family: 'Ubuntu Mono', 'Inconsolata', 'Noto Sans TC'; font-size: 250%; font-weight: 700;\">\n",
    "set的其他方法\n",
    "</div>\n",
    "<br>\n",
    "<div style=\"font-family: 'Inconsolata', 'Noto Sans TC'; font-size: 135%; color: Gainsboro\">\n",
    "\n",
    "* 除了以上的運算外，set還有好幾個方法可用。這些方法沒有對應的運算子：\n",
    "    <div style=\"font-family: 'Inconsolata', 'Noto Sans TC'; font-size: 90%; color: Gainsboro\">\n",
    "    \n",
    "    |方法|說明|範例|\n",
    "    |--|--|--|\n",
    "    |add()|新增元素||\n",
    "    |remove()|刪除元素||\n",
    "    |discard()|刪除元素||\n",
    "    |pop()|||\n",
    "    |clear()|||\n",
    "    |isdisjoint()|||\n",
    "    |copy()|shallow copy||\n",
    "    </div>\n",
    "* 一開始講set特性時有提到不能修改元素的值，所以沒有replace()方法。\n",
    "\n",
    "</div>"
   ]
  },
  {
   "cell_type": "code",
   "execution_count": null,
   "metadata": {},
   "outputs": [],
   "source": [
    "# add()"
   ]
  },
  {
   "cell_type": "code",
   "execution_count": null,
   "metadata": {},
   "outputs": [],
   "source": [
    "# remove()"
   ]
  },
  {
   "cell_type": "code",
   "execution_count": null,
   "metadata": {},
   "outputs": [],
   "source": [
    "# discard()"
   ]
  },
  {
   "cell_type": "code",
   "execution_count": null,
   "metadata": {},
   "outputs": [],
   "source": [
    "# pop()"
   ]
  },
  {
   "cell_type": "code",
   "execution_count": null,
   "metadata": {},
   "outputs": [],
   "source": [
    "# clear()"
   ]
  },
  {
   "cell_type": "code",
   "execution_count": null,
   "metadata": {},
   "outputs": [],
   "source": [
    "# isdisjoint()"
   ]
  },
  {
   "cell_type": "code",
   "execution_count": null,
   "metadata": {},
   "outputs": [],
   "source": [
    "# copy()"
   ]
  },
  {
   "cell_type": "markdown",
   "metadata": {},
   "source": [
    "<div style=\"text-align:center\"><img src=\"https://hackmd.io/_uploads/S1ZVMQOP6.png\" width=\"500\"/></div>"
   ]
  },
  {
   "cell_type": "code",
   "execution_count": null,
   "metadata": {},
   "outputs": [],
   "source": [
    "from typeutil import is_hashable\n",
    "\n",
    "\n",
    "class RobustSet(set):\n",
    "    def __init__(self, s: set):\n",
    "        super().__init__()\n",
    "        self.__set = s\n",
    "\n",
    "    def add(self, elements: list | tuple | set):\n",
    "        # if set(hashable_elements := [element for element in elements if is_hashable(element)]).issubset(self.__set):\n",
    "        tmp_set = self.__set.copy()\n",
    "        # added_count = 0\n",
    "        for element in (hashable_elements := [element for element in elements if is_hashable(element)]):\n",
    "            self.__set.add(element)\n",
    "\n",
    "        return len(self.__set) - len(tmp_set)\n",
    "\n",
    "    def discard(self, element: set):\n",
    "        if element in self.__set:\n",
    "            return_value = True\n",
    "        else:\n",
    "            return_value = False\n",
    "        self.__set.discard(element)\n",
    "        return return_value\n",
    "\n",
    "    def remove(self, elements: list | tuple | set):\n",
    "        if set(hashable_elements := [element for element in elements if is_hashable(element)]).issubset(self.__set):\n",
    "            return_value = True\n",
    "        else:\n",
    "            return_value = False\n",
    "\n",
    "        for hashable_element in hashable_elements:\n",
    "            if hashable_element in self.__set:\n",
    "                self.__set.remove(hashable_element)\n",
    "        return return_value\n",
    "\n",
    "    def replace(self, old: list | tuple | set, new: object) -> None:\n",
    "        self.remove(old)\n",
    "        self.add(new)\n",
    "        return None\n",
    "\n",
    "\n",
    "    def show(self):\n",
    "        return self.__set\n",
    "\n",
    "# my_set = RobustSet({4, 7, 3, 3, 2, 0, 6})\n",
    "# my_set = RobustSet({1, 8, 3, 0})\n",
    "# my_set.show()\n",
    "\n",
    "# print(my_set.discard(45))\n",
    "# my_set.show()\n",
    "\n",
    "# print(my_set.remove([45, 4, [7], 1, 'A', False, True, None]))\n",
    "# my_set.show()\n",
    "# my_set = RobustSet({1, 8, 7, 0, 9, 3})\n",
    "# my_set.remove([4, 8])\n",
    "# my_set.show()\n",
    "\n",
    "# my_set = RobustSet({1, 8, 7, 0, 9, 3})\n",
    "# my_set.remove((4, 8))\n",
    "# my_set.show()\n",
    "\n",
    "# my_set = RobustSet({1, 8, 7, 0, 9, 3})\n",
    "# my_set.remove({4, 8})\n",
    "# my_set.show()\n",
    "\n",
    "\n",
    "my_set = RobustSet({1, 8, 7, 0, 9, 3})\n",
    "my_set.show()\n",
    "my_set.add([4, [8], -0, {1}, '9', 4, 3, 2, 3])\n",
    "my_set.show()"
   ]
  },
  {
   "cell_type": "code",
   "execution_count": null,
   "metadata": {},
   "outputs": [],
   "source": [
    "s = {6, 8, 3, 5}\n",
    "s\n",
    "print(s.add(8))\n",
    "s"
   ]
  }
 ],
 "metadata": {
  "kernelspec": {
   "display_name": "Python 3",
   "language": "python",
   "name": "python3"
  },
  "language_info": {
   "codemirror_mode": {
    "name": "ipython",
    "version": 3
   },
   "file_extension": ".py",
   "mimetype": "text/x-python",
   "name": "python",
   "nbconvert_exporter": "python",
   "pygments_lexer": "ipython3",
   "version": "3.12.1"
  }
 },
 "nbformat": 4,
 "nbformat_minor": 2
}
