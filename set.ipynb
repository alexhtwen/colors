{
 "cells": [
  {
   "cell_type": "markdown",
   "metadata": {},
   "source": [
    "<br><br>\n",
    "<div style=\"font-family: 'Gen Jyuu Gothic Monospace Medium', 'Noto Sans TC', 'Inconsolata'; font-size: 440%; font-weight: 700; text-align: center; color: DarkSeaGreen;\">\n",
    "實作一個自訂的set\n",
    "</div>\n",
    "<br><br>\n",
    "<div style=\"font-family: 'Inconsolata', 'Noto Sans TC'; font-size: 135%; color: Gainsboro\">\n",
    "\n",
    "* 實作完整的set談何容易，要顧及的底層細節非常多，很可能超出筆者的能力。\n",
    "* 所以本文的自訂set，只是修改Python set的一小部分，練功成份大於實用。\n",
    "\n",
    "</div>\n",
    "<br><br>"
   ]
  },
  {
   "cell_type": "markdown",
   "metadata": {},
   "source": [
    "<div style=\"color: SteelBlue; font-family: 'Ubuntu Mono', 'Inconsolata', 'Noto Sans TC'; font-size: 300%; font-weight: 700;\">\n",
    "先複習Python的set\n",
    "</div>\n",
    "<br>\n",
    "<div style=\"font-family: 'Inconsolata', 'Noto Sans TC'; font-size: 135%; color: Gainsboro\">\n",
    "\n",
    "* set的特性\n",
    "* set的notation\n",
    "* 建立空set\n",
    "* 運算子和方法\n",
    "\n",
    "<div style=\"color: tomato; text-align: center;\">\n",
    "(各位請打開麥克風)\n",
    "</div>"
   ]
  },
  {
   "cell_type": "markdown",
   "metadata": {},
   "source": [
    "<div style=\"color: DarkSalmon; font-family: 'Ubuntu Mono', 'Inconsolata', 'Noto Sans TC'; font-size: 250%; font-weight: 700;\">\n",
    "set的特性\n",
    "</div>\n",
    "<br>\n",
    "<div style=\"font-family: 'Inconsolata', 'Noto Sans TC'; font-size: 135%; color: Gainsboro\">\n",
    "\n",
    "* 每個元素都是唯一(unique)不會重複。\n",
    "* 元素的順序無法保證(unordered)。 \n",
    "* 可新增、刪除元素，但不能修改元素的值。"
   ]
  },
  {
   "cell_type": "markdown",
   "metadata": {},
   "source": [
    "<div style=\"color: DarkSalmon; font-family: 'Ubuntu Mono', 'Inconsolata', 'Noto Sans TC'; font-size: 250%; font-weight: 700;\">\n",
    "set的notation\n",
    "</div>\n",
    "<br>\n",
    "<div style=\"font-family: 'Inconsolata', 'Noto Sans TC'; font-size: 135%; color: Gainsboro\">\n",
    "\n",
    "* set是用大括號(花括弧)`{}`作為前後綴符號，例如：\n",
    "* `set1 = {'Python', 'JS', 'C++', 'Java'}`"
   ]
  },
  {
   "cell_type": "markdown",
   "metadata": {},
   "source": [
    "<div style=\"color: DarkSalmon; font-family: 'Ubuntu Mono', 'Inconsolata', 'Noto Sans TC'; font-size: 250%; font-weight: 700;\">\n",
    "建立空set\n",
    "</div>\n",
    "<br>\n",
    "<div style=\"font-family: 'Inconsolata', 'Noto Sans TC'; font-size: 150%; color: Gainsboro\">\n",
    "\n",
    "1. `set1 = set()`\n",
    "2. `set2 = {}`"
   ]
  },
  {
   "cell_type": "markdown",
   "metadata": {},
   "source": [
    "<div style=\"color: DarkSalmon; font-family: 'Ubuntu Mono', 'Inconsolata', 'Noto Sans TC'; font-size: 250%; font-weight: 700;\">\n",
    "運算子和方法\n",
    "</div>\n",
    "<br>\n",
    "<div style=\"font-family: 'Inconsolata', 'Noto Sans TC'; font-size: 135%; color: Gainsboro\">\n",
    "\n",
    "* set提供以下運算子(operators)和對應方法(methods)：\n",
    "    <div style=\"font-family: 'Inconsolata', 'Noto Sans TC'; font-size: 70%; color: Gainsboro\">\n",
    "    \n",
    "    |運算子|方法|中文|範例 / 說明|\n",
    "    |--|--|--|--|\n",
    "    |\\||union()|聯集|<ol><li>set1 \\| set2</li><li>set1.union(set2)</li></ol>|\n",
    "    |&|intersection()|交集|<ol><li>set1 & set2</li><li>set1.intersection(set2)|\n",
    "    |-|difference()|差集|<ol><li>set1 - set2</li><li>set1.difference(set2)|\n",
    "    |^|symmetric_difference()|對稱差|<ol><li>set1 ^ set2</li><li>set1.symmetric_difference(set2)|\n",
    "    |<=|issubset()|子集|<ol><li>set1 <= set2</li><li>set1.issubset(set2)|\n",
    "    |<|issubset() and ...|真子集|<ol><li>set1 < set2</li><li>set1.issubset(set2) and<br>set1 != set2|\n",
    "    |>=|issuperset()|超集|<ol><li>set1 >= set2</li><li>set1.issuperset(set2)|\n",
    "    |>|issuperset() and ...|真超集|<ol><li>set1 > set2</li><li>set1.issuperset(set2) and<br>set1 != set2|\n",
    "    |\\|=|update()||add elements<br>from all others.|\n",
    "    |&=|intersection_update()||keep only elements<br>found in it<br>and all others.|\n",
    "    |-=|difference_update()||remove elements<br>found in others.|\n",
    "    |^=|symmetric_difference_update()||keep only elements<br>found in either set,<br>but not in both.|\n",
    "    </div>\n",
    "* Python的set沒有提供`+`和`*`運算子。\n",
    "</div>"
   ]
  },
  {
   "cell_type": "code",
   "execution_count": 22,
   "metadata": {},
   "outputs": [],
   "source": [
    "set1 = {1, 2, 3, 4, 5}\n",
    "set2 = {8, 7, 6, 5, 4}"
   ]
  },
  {
   "cell_type": "code",
   "execution_count": 26,
   "metadata": {},
   "outputs": [
    {
     "name": "stdout",
     "output_type": "stream",
     "text": [
      "set1 = {1, 2, 3, 4, 5}\n",
      "set2 = {4, 5, 6, 7, 8}\n",
      "set1 | set2      = {1, 2, 3, 4, 5, 6, 7, 8}\n",
      "set1.union(set2) = {1, 2, 3, 4, 5, 6, 7, 8}\n"
     ]
    }
   ],
   "source": [
    "# union\n",
    "print(f'{set1 = }')\n",
    "print(f'{set2 = }')\n",
    "print(f'{set1 | set2      = }')\n",
    "print(f'{set1.union(set2) = }')"
   ]
  },
  {
   "cell_type": "code",
   "execution_count": 28,
   "metadata": {},
   "outputs": [
    {
     "name": "stdout",
     "output_type": "stream",
     "text": [
      "set1 = {1, 2, 3, 4, 5}\n",
      "set2 = {4, 5, 6, 7, 8}\n",
      "set1 & set2             = {4, 5}\n",
      "set1.intersection(set2) = {4, 5}\n"
     ]
    }
   ],
   "source": [
    "# intersection\n",
    "print(f'{set1 = }')\n",
    "print(f'{set2 = }')\n",
    "print(f'{set1 & set2             = }')\n",
    "print(f'{set1.intersection(set2) = }')"
   ]
  },
  {
   "cell_type": "code",
   "execution_count": 29,
   "metadata": {},
   "outputs": [
    {
     "name": "stdout",
     "output_type": "stream",
     "text": [
      "set1 = {1, 2, 3, 4, 5}\n",
      "set2 = {4, 5, 6, 7, 8}\n",
      "set1 - set2           = {1, 2, 3}\n",
      "set1.difference(set2) = {1, 2, 3}\n"
     ]
    }
   ],
   "source": [
    "# difference\n",
    "print(f'{set1 = }')\n",
    "print(f'{set2 = }')\n",
    "print(f'{set1 - set2           = }')\n",
    "print(f'{set1.difference(set2) = }')"
   ]
  },
  {
   "cell_type": "code",
   "execution_count": 31,
   "metadata": {},
   "outputs": [
    {
     "name": "stdout",
     "output_type": "stream",
     "text": [
      "set1 = {1, 2, 3, 4, 5}\n",
      "set2 = {4, 5, 6, 7, 8}\n",
      "set1 ^ set2                     = {1, 2, 3, 6, 7, 8}\n",
      "set1.symmetric_difference(set2) = {1, 2, 3, 6, 7, 8}\n"
     ]
    }
   ],
   "source": [
    "# symmetric difference\n",
    "print(f'{set1 = }')\n",
    "print(f'{set2 = }')\n",
    "print(f'{set1 ^ set2                     = }')\n",
    "print(f'{set1.symmetric_difference(set2) = }')"
   ]
  },
  {
   "cell_type": "code",
   "execution_count": 36,
   "metadata": {},
   "outputs": [
    {
     "name": "stdout",
     "output_type": "stream",
     "text": [
      "set1 = {1, 2, 3, 4, 5}\n",
      "set2 = {3, 4, 5}\n",
      "set1 <= set2        = False\n",
      "set1.issubset(set2) = False\n"
     ]
    }
   ],
   "source": [
    "# subset\n",
    "set1 = {1, 2, 3, 4, 5}\n",
    "set2 = {5, 4, 3}\n",
    "print(f'{set1 = }')\n",
    "print(f'{set2 = }')\n",
    "print(f'{set1 <= set2        = }')\n",
    "print(f'{set1.issubset(set2) = }')"
   ]
  },
  {
   "cell_type": "code",
   "execution_count": 35,
   "metadata": {},
   "outputs": [
    {
     "name": "stdout",
     "output_type": "stream",
     "text": [
      "set1 = {1, 2, 3, 4, 5}\n",
      "set2 = {3, 4, 5}\n",
      "set1 >= set2          = True\n",
      "set1.issuperset(set2) = True\n"
     ]
    }
   ],
   "source": [
    "# superset\n",
    "set1 = {1, 2, 3, 4, 5}\n",
    "set2 = {5, 4, 3}\n",
    "print(f'{set1 = }')\n",
    "print(f'{set2 = }')\n",
    "print(f'{set1 >= set2          = }')\n",
    "print(f'{set1.issuperset(set2) = }')"
   ]
  },
  {
   "cell_type": "markdown",
   "metadata": {},
   "source": [
    "<div style=\"color: DarkSalmon; font-family: 'Ubuntu Mono', 'Inconsolata', 'Noto Sans TC'; font-size: 250%; font-weight: 700;\">\n",
    "set的其他方法\n",
    "</div>\n",
    "<br>\n",
    "<div style=\"font-family: 'Inconsolata', 'Noto Sans TC'; font-size: 135%; color: Gainsboro\">\n",
    "\n",
    "* 除了以上的運算外，set還有好幾個方法可用：\n",
    "    <div style=\"font-family: 'Inconsolata', 'Noto Sans TC'; font-size: 90%; color: Gainsboro\">\n",
    "    \n",
    "    |方法|說明|範例|\n",
    "    |--|--|--|\n",
    "    |add()|新增元素||\n",
    "    |remove()|刪除元素||\n",
    "    |discard()|刪除元素||\n",
    "    |pop()|||\n",
    "    |clear()|||\n",
    "    |isdisjoint()|||\n",
    "    |copy()|shallow copy||\n",
    "    </div>\n",
    "* 一開始講set特性時有提到不能修改元素的值，所以沒有replace()方法。\n",
    "\n",
    "</div>"
   ]
  },
  {
   "cell_type": "code",
   "execution_count": 38,
   "metadata": {},
   "outputs": [
    {
     "data": {
      "text/plain": [
       "13600"
      ]
     },
     "execution_count": 38,
     "metadata": {},
     "output_type": "execute_result"
    },
    {
     "data": {
      "text/plain": [
       "13735"
      ]
     },
     "execution_count": 38,
     "metadata": {},
     "output_type": "execute_result"
    }
   ],
   "source": [
    "# 3 46 40\n",
    "3*3600 + 46*60 + 40\n",
    "3*3600 + 48*60 + 55\n"
   ]
  },
  {
   "cell_type": "markdown",
   "metadata": {},
   "source": [
    "<div style=\"text-align:center\"><img src=\"https://hackmd.io/_uploads/S1ZVMQOP6.png\" width=\"500\"/></div>"
   ]
  },
  {
   "cell_type": "markdown",
   "metadata": {},
   "source": [
    "<div style=\"text-align:center\"><img src=\"https://hackmd.io/_uploads/ryRk_EdwT.jpg\" width=\"300\"/></div>"
   ]
  },
  {
   "cell_type": "code",
   "execution_count": 20,
   "metadata": {},
   "outputs": [
    {
     "name": "stdout",
     "output_type": "stream",
     "text": [
      "set1 = set()\ttype(set1) = <class 'set'>\n",
      "set2 = {}\ttype(set2) = <class 'dict'>\n"
     ]
    }
   ],
   "source": [
    "# 建立空set。\n",
    "set1 = set()\n",
    "set2 = {}\n",
    "\n",
    "print(f'{set1 = }\\t{type(set1) = }')\n",
    "print(f'{set2 = }\\t{type(set2) = }')"
   ]
  },
  {
   "cell_type": "code",
   "execution_count": 7,
   "metadata": {},
   "outputs": [
    {
     "data": {
      "text/plain": [
       "{0, 1, 3, 7, 8, 9}"
      ]
     },
     "execution_count": 7,
     "metadata": {},
     "output_type": "execute_result"
    },
    {
     "data": {
      "text/plain": [
       "3"
      ]
     },
     "execution_count": 7,
     "metadata": {},
     "output_type": "execute_result"
    },
    {
     "data": {
      "text/plain": [
       "{0, 1, 2, 3, 4, 7, 8, 9, '9'}"
      ]
     },
     "execution_count": 7,
     "metadata": {},
     "output_type": "execute_result"
    }
   ],
   "source": [
    "from typeutil import is_hashable\n",
    "\n",
    "\n",
    "class RobustSet(set):\n",
    "    def __init__(self, s: set):\n",
    "        super().__init__()\n",
    "        self.__set = s\n",
    "\n",
    "    def add(self, elements: list | tuple | set):\n",
    "        # if set(hashable_elements := [element for element in elements if is_hashable(element)]).issubset(self.__set):\n",
    "        tmp_set = self.__set.copy()\n",
    "        # added_count = 0\n",
    "        for element in (hashable_elements := [element for element in elements if is_hashable(element)]):\n",
    "            self.__set.add(element)\n",
    "\n",
    "        return len(self.__set) - len(tmp_set)\n",
    "\n",
    "    def discard(self, element: set):\n",
    "        if element in self.__set:\n",
    "            return_value = True\n",
    "        else:\n",
    "            return_value = False\n",
    "        self.__set.discard(element)\n",
    "        return return_value\n",
    "\n",
    "    def remove(self, elements: list | tuple | set):\n",
    "        if set(hashable_elements := [element for element in elements if is_hashable(element)]).issubset(self.__set):\n",
    "            return_value = True\n",
    "        else:\n",
    "            return_value = False\n",
    "\n",
    "        for hashable_element in hashable_elements:\n",
    "            if hashable_element in self.__set:\n",
    "                self.__set.remove(hashable_element)\n",
    "        return return_value\n",
    "\n",
    "    def replace(self, old: list | tuple | set, new: object) -> None:\n",
    "        self.remove(old)\n",
    "        self.add(new)\n",
    "        return None\n",
    "\n",
    "\n",
    "    def show(self):\n",
    "        return self.__set\n",
    "\n",
    "# my_set = RobustSet({4, 7, 3, 3, 2, 0, 6})\n",
    "# my_set = RobustSet({1, 8, 3, 0})\n",
    "# my_set.show()\n",
    "\n",
    "# print(my_set.discard(45))\n",
    "# my_set.show()\n",
    "\n",
    "# print(my_set.remove([45, 4, [7], 1, 'A', False, True, None]))\n",
    "# my_set.show()\n",
    "# my_set = RobustSet({1, 8, 7, 0, 9, 3})\n",
    "# my_set.remove([4, 8])\n",
    "# my_set.show()\n",
    "\n",
    "# my_set = RobustSet({1, 8, 7, 0, 9, 3})\n",
    "# my_set.remove((4, 8))\n",
    "# my_set.show()\n",
    "\n",
    "# my_set = RobustSet({1, 8, 7, 0, 9, 3})\n",
    "# my_set.remove({4, 8})\n",
    "# my_set.show()\n",
    "\n",
    "\n",
    "my_set = RobustSet({1, 8, 7, 0, 9, 3})\n",
    "my_set.show()\n",
    "my_set.add([4, [8], -0, {1}, '9', 4, 3, 2, 3])\n",
    "my_set.show()"
   ]
  },
  {
   "cell_type": "code",
   "execution_count": 4,
   "metadata": {},
   "outputs": [
    {
     "data": {
      "text/plain": [
       "{3, 5, 6, 8}"
      ]
     },
     "execution_count": 4,
     "metadata": {},
     "output_type": "execute_result"
    },
    {
     "name": "stdout",
     "output_type": "stream",
     "text": [
      "None\n"
     ]
    },
    {
     "data": {
      "text/plain": [
       "{3, 5, 6, 8}"
      ]
     },
     "execution_count": 4,
     "metadata": {},
     "output_type": "execute_result"
    }
   ],
   "source": [
    "s = {6, 8, 3, 5}\n",
    "s\n",
    "print(s.add(8))\n",
    "s"
   ]
  }
 ],
 "metadata": {
  "kernelspec": {
   "display_name": "Python 3",
   "language": "python",
   "name": "python3"
  },
  "language_info": {
   "codemirror_mode": {
    "name": "ipython",
    "version": 3
   },
   "file_extension": ".py",
   "mimetype": "text/x-python",
   "name": "python",
   "nbconvert_exporter": "python",
   "pygments_lexer": "ipython3",
   "version": "3.12.1"
  }
 },
 "nbformat": 4,
 "nbformat_minor": 2
}
