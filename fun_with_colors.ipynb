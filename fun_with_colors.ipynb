{
 "cells": [
  {
   "cell_type": "markdown",
   "metadata": {},
   "source": [
    "<div style=\"font-family: 'Gen Jyuu Gothic Monospace Medium', 'Noto Sans TC', 'Inconsolata'; font-size: 540%; font-weight: 700; text-align: center; color: #96E7F3;\">\n",
    "<br>\n",
    "<font color='#ECA3A3'>我</font><font color='#D8BC66'>的</font><font color='#BBE166'>人</font><font color='#FFE8A3'>生</font><font color='#323232'>黑</font><font color='#F2F2F2'>白</font><font color='#C7DBDE'>變</font><font color='#DAAFC6'>彩</font><font color='#6C97BE'>色</font>\n",
    "</div>\n",
    "<br>\n",
    "<br>\n",
    "<br>\n",
    "<div style=\"font-family: 'Inconsolata', 'Noto Sans TC'; font-size: 280%; text-align: center;  color: #96E7F3;\">\n",
    "Alex又一無聊「鉅作」\n",
    "</div>"
   ]
  },
  {
   "cell_type": "markdown",
   "metadata": {},
   "source": [
    "<div style=\"text-align:center\"><img src=\"https://hackmd.io/_uploads/HyCfNz8Ip.png\" width=\"600\"/></div>"
   ]
  },
  {
   "cell_type": "code",
   "execution_count": 4,
   "metadata": {},
   "outputs": [
    {
     "data": {
      "application/javascript": "// 設定output文字顏色。\ndocument.styleSheets[0].addRule('body', 'color: #87CEFA !important;')\n",
      "text/plain": [
       "<IPython.core.display.Javascript object>"
      ]
     },
     "metadata": {},
     "output_type": "display_data"
    }
   ],
   "source": [
    "%%javascript\n",
    "// VS Code本身沒有提供輸出顏色的設定，只好自己寫一段JS。\n",
    "document.styleSheets[0].addRule('body', 'color: #87CEFA !important;')"
   ]
  },
  {
   "cell_type": "code",
   "execution_count": 33,
   "metadata": {},
   "outputs": [
    {
     "data": {
      "text/plain": [
       "1.75"
      ]
     },
     "execution_count": 33,
     "metadata": {},
     "output_type": "execute_result"
    }
   ],
   "source": [
    "1792/1024"
   ]
  },
  {
   "cell_type": "code",
   "execution_count": 3,
   "metadata": {},
   "outputs": [
    {
     "name": "stdout",
     "output_type": "stream",
     "text": [
      "輸出有點顏色了。\n"
     ]
    }
   ],
   "source": [
    "print('輸出有點顏色了。')"
   ]
  },
  {
   "cell_type": "code",
   "execution_count": 4,
   "metadata": {},
   "outputs": [
    {
     "name": "stdout",
     "output_type": "stream",
     "text": [
      "但顏色一成不變，好像有點無聊。\n"
     ]
    }
   ],
   "source": [
    "print('但顏色一成不變，好像有點無聊。')"
   ]
  },
  {
   "cell_type": "markdown",
   "metadata": {},
   "source": [
    "<div style=\"color: SteelBlue; font-family: 'Ubuntu Mono', 'Inconsolata', 'Noto Sans TC'; font-size: 300%; font-weight: 700;\">\n",
    "如果輸出五彩繽紛\n",
    "</div>\n",
    "<br>\n",
    "<div style=\"font-family: 'Inconsolata', 'Noto Sans TC'; font-size: 135%; color: Gainsboro\">\n",
    "\n",
    "* 雖然沒啥實質作用，最少可以讓自己開心一點吧。\n",
    "* 以下介紹一個可以給輸出色彩化的模組："
   ]
  },
  {
   "cell_type": "markdown",
   "metadata": {},
   "source": [
    "<div style=\"text-align:center\"><img src=\"https://hackmd.io/_uploads/ry1O_f8La.png\" width=\"600\"/></div>"
   ]
  },
  {
   "cell_type": "code",
   "execution_count": null,
   "metadata": {},
   "outputs": [],
   "source": []
  },
  {
   "cell_type": "code",
   "execution_count": 31,
   "metadata": {},
   "outputs": [
    {
     "name": "stdout",
     "output_type": "stream",
     "text": [
      "\u001b[35m\u001b[43m*黃底洋紅字*\n",
      "\u001b[95m\u001b[103m*黃底洋紅字(淺)*\n",
      "\u001b[41m\u001b[34m*紅底藍字*\n",
      "\u001b[101m\u001b[94m*紅底藍字(淺)*\n",
      "\u001b[30m\u001b[46m*青底黑字*\n",
      "\u001b[90m\u001b[106m*青底黑字(淺)*\n",
      "\u001b[47m\u001b[32m*白底綠字*\n",
      "\u001b[107m\u001b[92m*白底綠字(淺)*\n",
      "\u001b[39m\u001b[49m*還原設定*\n"
     ]
    }
   ],
   "source": [
    "from colorama import Fore, Back\n",
    "\n",
    "print(f'{Fore.MAGENTA}{Back.YELLOW}*黃底洋紅字*')\n",
    "print(f'{Fore.LIGHTMAGENTA_EX}{Back.LIGHTYELLOW_EX}*黃底洋紅字(淺)*')\n",
    "print(f'{Back.RED}{Fore.BLUE}*紅底藍字*')\n",
    "print(f'{Back.LIGHTRED_EX}{Fore.LIGHTBLUE_EX}*紅底藍字(淺)*')\n",
    "print(f'{Fore.BLACK}{Back.CYAN}*青底黑字*')\n",
    "print(f'{Fore.LIGHTBLACK_EX}{Back.LIGHTCYAN_EX}*青底黑字(淺)*')\n",
    "print(f'{Back.WHITE}{Fore.GREEN}*白底綠字*')\n",
    "print(f'{Back.LIGHTWHITE_EX}{Fore.LIGHTGREEN_EX}*白底綠字(淺)*')\n",
    "print(f'{Fore.RESET}{Back.RESET}*還原設定*')"
   ]
  },
  {
   "cell_type": "markdown",
   "metadata": {},
   "source": [
    "<div style=\"color: SteelBlue; font-family: 'Ubuntu Mono', 'Inconsolata', 'Noto Sans TC'; font-size: 300%; font-weight: 700;\">\n",
    "All Set!\n",
    "</div>\n",
    "<br>\n",
    "<div style=\"font-family: 'Inconsolata', 'Noto Sans TC'; font-size: 135%; color: Gainsboro\">\n",
    "\n",
    "* 套用現成模組，事情輕鬆就完成。\n",
    "* IT界名言：\"Don't reinvent the wheel.\"\n",
    "* 不過colorama模組倒也不一定是現成的wheel。\n",
    "* 以下試試不使用任何外在模組，讓輸出也能五顏六色。\n",
    "---\n",
    "* 「千里明駝，不踏山間路。」-- 宋．王炎《蝶戀花》\n",
    "* 「千里明駝，勇闖山間路。」-- 民國．Alex Van《花戀蝶》"
   ]
  },
  {
   "cell_type": "markdown",
   "metadata": {},
   "source": [
    "<div style=\"text-align:center\"><img src=\"https://hackmd.io/_uploads/SJzVXgII6.jpg\" width=\"600\"/></div>"
   ]
  },
  {
   "cell_type": "code",
   "execution_count": null,
   "metadata": {},
   "outputs": [],
   "source": [
    "class Colors():\n",
    "    class Fore():\n",
    "        BLACK = '\\x1b[30m'\n",
    "        RED = '\\x1b[31m'\n",
    "        GREEN = '\\x1b[32m'\n",
    "        YELLOW = '\\x1b[33m'\n",
    "        BLUE = '\\x1b[34m'\n",
    "        MAGENTA = '\\x1b[35m'\n",
    "        CYAN = '\\x1b[36m'\n",
    "        WHITE = '\\x1b[37m'\n",
    "        DEFAULT = '\\x1b[39m'\n",
    "\n",
    "    class Back():\n",
    "        BLACK = '\\x1b[40m'\n",
    "        RED = '\\x1b[41m'\n",
    "        GREEN = '\\x1b[42m'\n",
    "        YELLOW = '\\x1b[43m'\n",
    "        BLUE = '\\x1b[44m'\n",
    "        MAGENTA = '\\x1b[45m'\n",
    "        CYAN = '\\x1b[46m'\n",
    "        WHITE = '\\x1b[47m'\n",
    "        DEFAULT = '\\x1b[49m'\n",
    "\n",
    "\n",
    "print(f'{Colors.Fore.RED}{Colors.Back.YELLOW}Hello, world.')\n",
    "print(f'{Colors.Fore.BLACK}{Colors.Back.CYAN}Hello, world.')\n",
    "print(f'{Colors.Fore.WHITE}{Colors.Back.DEFAULT}Hello, world.')\n",
    "print(f'{Colors.Fore.GREEN}{Colors.Back.MAGENTA}Hello, world.')\n",
    "print(f'{Colors.Fore.DEFAULT}{Colors.Back.DEFAULT}Hello, world.')\n",
    "\n",
    "# print(f'{Colors.CYAN['BACK']}{Colors.WHITE['FORE']}Hello, world.')\n"
   ]
  },
  {
   "cell_type": "markdown",
   "metadata": {},
   "source": []
  },
  {
   "cell_type": "code",
   "execution_count": null,
   "metadata": {},
   "outputs": [],
   "source": [
    "import random as rd\n",
    "# from string import ascii_letters\n",
    "\n",
    "# chars = ascii_letters + r'~!@#$Q%^&*()_+=-`[]\\/,<>?\"|}{+}'\n",
    "fores = (Colors.Fore.BLACK, Colors.Fore.RED, Colors.Fore.GREEN, Colors.Fore.YELLOW, Colors.Fore.BLUE, Colors.Fore.MAGENTA, Colors.Fore.CYAN, Colors.Fore.WHITE, Colors.Fore.DEFAULT)\n",
    "backs = (Colors.Back.BLACK, Colors.Back.RED, Colors.Back.GREEN, Colors.Back.YELLOW, Colors.Back.BLUE, Colors.Back.MAGENTA, Colors.Back.CYAN, Colors.Back.WHITE, Colors.Back.DEFAULT)\n",
    "for _ in range(50):\n",
    "    print(f'{rd.choice(fores)}{rd.choice(backs)}{rd.choice(chars)}', end='')\n",
    "    # print(f'{rd.choice(fores)}{rd.choice(backs)}Hello, world.', end='\\n')\n"
   ]
  },
  {
   "cell_type": "markdown",
   "metadata": {},
   "source": []
  },
  {
   "cell_type": "code",
   "execution_count": null,
   "metadata": {},
   "outputs": [],
   "source": []
  },
  {
   "cell_type": "markdown",
   "metadata": {},
   "source": []
  },
  {
   "cell_type": "code",
   "execution_count": null,
   "metadata": {},
   "outputs": [],
   "source": []
  },
  {
   "cell_type": "markdown",
   "metadata": {},
   "source": []
  },
  {
   "cell_type": "code",
   "execution_count": null,
   "metadata": {},
   "outputs": [],
   "source": []
  },
  {
   "cell_type": "markdown",
   "metadata": {},
   "source": []
  },
  {
   "cell_type": "code",
   "execution_count": null,
   "metadata": {},
   "outputs": [],
   "source": []
  },
  {
   "cell_type": "markdown",
   "metadata": {},
   "source": []
  },
  {
   "cell_type": "code",
   "execution_count": null,
   "metadata": {},
   "outputs": [],
   "source": []
  },
  {
   "cell_type": "markdown",
   "metadata": {},
   "source": []
  },
  {
   "cell_type": "code",
   "execution_count": null,
   "metadata": {},
   "outputs": [],
   "source": []
  },
  {
   "cell_type": "markdown",
   "metadata": {},
   "source": []
  },
  {
   "cell_type": "code",
   "execution_count": null,
   "metadata": {},
   "outputs": [],
   "source": []
  },
  {
   "cell_type": "markdown",
   "metadata": {},
   "source": []
  },
  {
   "cell_type": "code",
   "execution_count": null,
   "metadata": {},
   "outputs": [],
   "source": []
  },
  {
   "cell_type": "markdown",
   "metadata": {},
   "source": []
  },
  {
   "cell_type": "code",
   "execution_count": null,
   "metadata": {},
   "outputs": [],
   "source": []
  },
  {
   "cell_type": "markdown",
   "metadata": {},
   "source": []
  },
  {
   "cell_type": "code",
   "execution_count": null,
   "metadata": {},
   "outputs": [],
   "source": []
  },
  {
   "cell_type": "markdown",
   "metadata": {},
   "source": []
  },
  {
   "cell_type": "code",
   "execution_count": null,
   "metadata": {},
   "outputs": [],
   "source": []
  },
  {
   "cell_type": "markdown",
   "metadata": {},
   "source": []
  },
  {
   "cell_type": "code",
   "execution_count": null,
   "metadata": {},
   "outputs": [],
   "source": []
  },
  {
   "cell_type": "markdown",
   "metadata": {},
   "source": []
  },
  {
   "cell_type": "code",
   "execution_count": null,
   "metadata": {},
   "outputs": [],
   "source": []
  },
  {
   "cell_type": "markdown",
   "metadata": {},
   "source": []
  },
  {
   "cell_type": "code",
   "execution_count": null,
   "metadata": {},
   "outputs": [],
   "source": []
  },
  {
   "cell_type": "markdown",
   "metadata": {},
   "source": []
  },
  {
   "cell_type": "code",
   "execution_count": null,
   "metadata": {},
   "outputs": [],
   "source": []
  },
  {
   "cell_type": "markdown",
   "metadata": {},
   "source": []
  },
  {
   "cell_type": "code",
   "execution_count": null,
   "metadata": {},
   "outputs": [],
   "source": []
  },
  {
   "cell_type": "markdown",
   "metadata": {},
   "source": []
  },
  {
   "cell_type": "code",
   "execution_count": null,
   "metadata": {},
   "outputs": [],
   "source": []
  },
  {
   "cell_type": "markdown",
   "metadata": {},
   "source": []
  },
  {
   "cell_type": "code",
   "execution_count": null,
   "metadata": {},
   "outputs": [],
   "source": []
  },
  {
   "cell_type": "markdown",
   "metadata": {},
   "source": []
  },
  {
   "cell_type": "code",
   "execution_count": null,
   "metadata": {},
   "outputs": [],
   "source": []
  },
  {
   "cell_type": "markdown",
   "metadata": {},
   "source": []
  },
  {
   "cell_type": "code",
   "execution_count": null,
   "metadata": {},
   "outputs": [],
   "source": []
  },
  {
   "cell_type": "markdown",
   "metadata": {},
   "source": []
  },
  {
   "cell_type": "code",
   "execution_count": null,
   "metadata": {},
   "outputs": [],
   "source": []
  },
  {
   "cell_type": "code",
   "execution_count": null,
   "metadata": {},
   "outputs": [],
   "source": []
  },
  {
   "cell_type": "markdown",
   "metadata": {},
   "source": []
  },
  {
   "cell_type": "code",
   "execution_count": null,
   "metadata": {},
   "outputs": [],
   "source": []
  },
  {
   "cell_type": "markdown",
   "metadata": {},
   "source": []
  },
  {
   "cell_type": "code",
   "execution_count": null,
   "metadata": {},
   "outputs": [],
   "source": []
  },
  {
   "cell_type": "markdown",
   "metadata": {},
   "source": []
  },
  {
   "cell_type": "code",
   "execution_count": null,
   "metadata": {},
   "outputs": [],
   "source": []
  },
  {
   "cell_type": "markdown",
   "metadata": {},
   "source": []
  }
 ],
 "metadata": {
  "kernelspec": {
   "display_name": "Python 3",
   "language": "python",
   "name": "python3"
  },
  "language_info": {
   "codemirror_mode": {
    "name": "ipython",
    "version": 3
   },
   "file_extension": ".py",
   "mimetype": "text/x-python",
   "name": "python",
   "nbconvert_exporter": "python",
   "pygments_lexer": "ipython3",
   "version": "3.12.1"
  }
 },
 "nbformat": 4,
 "nbformat_minor": 2
}
