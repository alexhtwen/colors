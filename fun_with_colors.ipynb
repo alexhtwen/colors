{
 "cells": [
  {
   "cell_type": "markdown",
   "metadata": {},
   "source": [
    "<div style=\"font-family: 'Gen Jyuu Gothic Monospace Medium', 'Noto Sans TC', 'Inconsolata'; font-size: 540%; font-weight: 700; text-align: center; color: #96E7F3;\">\n",
    "<br>\n",
    "<font color='#ECA3A3'>我</font><font color='#D8BC66'>的</font><font color='#BBE166'>人</font><font color='#FFE8A3'>生</font><font color='#323232'>黑</font><font color='#F2F2F2'>白</font><font color='#C7DBDE'>變</font><font color='#DAAFC6'>彩</font><font color='#6C97BE'>色</font>\n",
    "</div>\n",
    "<br>\n",
    "<br>\n",
    "<br>\n",
    "<div style=\"font-family: 'Inconsolata', 'Noto Sans TC'; font-size: 280%; text-align: center;  color: #96E7F3;\">\n",
    "Alex又一無聊「鉅作」\n",
    "</div>"
   ]
  },
  {
   "cell_type": "markdown",
   "metadata": {},
   "source": [
    "<div style=\"text-align:center\"><img src=\"https://hackmd.io/_uploads/HyCfNz8Ip.png\" width=\"600\"/></div>"
   ]
  },
  {
   "cell_type": "code",
   "execution_count": null,
   "metadata": {},
   "outputs": [],
   "source": [
    "%%javascript\n",
    "// VS Code本身沒有提供輸出顏色的設定，只好自己寫一段JS。\n",
    "document.styleSheets[0].addRule('body', 'color: #87CEFA !important;')"
   ]
  },
  {
   "cell_type": "code",
   "execution_count": null,
   "metadata": {},
   "outputs": [],
   "source": [
    "1792/1024"
   ]
  },
  {
   "cell_type": "code",
   "execution_count": null,
   "metadata": {},
   "outputs": [],
   "source": [
    "print('輸出有點顏色了。')"
   ]
  },
  {
   "cell_type": "code",
   "execution_count": null,
   "metadata": {},
   "outputs": [],
   "source": [
    "print('但顏色一成不變，好像有點無聊。')"
   ]
  },
  {
   "cell_type": "markdown",
   "metadata": {},
   "source": [
    "<div style=\"color: SteelBlue; font-family: 'Ubuntu Mono', 'Inconsolata', 'Noto Sans TC'; font-size: 300%; font-weight: 700;\">\n",
    "如果輸出五彩繽紛\n",
    "</div>\n",
    "<br>\n",
    "<div style=\"font-family: 'Inconsolata', 'Noto Sans TC'; font-size: 135%; color: Gainsboro\">\n",
    "\n",
    "* 雖然沒啥實質作用，最少可以讓自己開心一點吧。\n",
    "* 以下介紹一個可以給輸出色彩化的模組："
   ]
  },
  {
   "cell_type": "markdown",
   "metadata": {},
   "source": [
    "<div style=\"text-align:center\"><img src=\"https://hackmd.io/_uploads/ry1O_f8La.png\" width=\"600\"/></div>"
   ]
  },
  {
   "cell_type": "code",
   "execution_count": null,
   "metadata": {},
   "outputs": [],
   "source": []
  },
  {
   "cell_type": "code",
   "execution_count": null,
   "metadata": {},
   "outputs": [],
   "source": [
    "from colorama import Fore, Back\n",
    "\n",
    "print(f'{Fore.MAGENTA}{Back.YELLOW}*黃底洋紅字*')\n",
    "print(f'{Fore.LIGHTMAGENTA_EX}{Back.LIGHTYELLOW_EX}*黃底洋紅字(淺)*')\n",
    "print(f'{Back.RED}{Fore.BLUE}*紅底藍字*')\n",
    "print(f'{Back.LIGHTRED_EX}{Fore.LIGHTBLUE_EX}*紅底藍字(淺)*')\n",
    "print(f'{Fore.BLACK}{Back.CYAN}*青底黑字*')\n",
    "print(f'{Fore.LIGHTBLACK_EX}{Back.LIGHTCYAN_EX}*青底黑字(淺)*')\n",
    "print(f'{Back.WHITE}{Fore.GREEN}*白底綠字*')\n",
    "print(f'{Back.LIGHTWHITE_EX}{Fore.LIGHTGREEN_EX}*白底綠字(淺)*')\n",
    "print(f'{Fore.RESET}{Back.RESET}*還原設定*')"
   ]
  },
  {
   "cell_type": "markdown",
   "metadata": {},
   "source": [
    "<div style=\"color: SteelBlue; font-family: 'Ubuntu Mono', 'Inconsolata', 'Noto Sans TC'; font-size: 300%; font-weight: 700;\">\n",
    "All Set!\n",
    "</div>\n",
    "<br>\n",
    "<div style=\"font-family: 'Inconsolata', 'Noto Sans TC'; font-size: 135%; color: Gainsboro\">\n",
    "\n",
    "* 套用現成模組，事情輕鬆就完成。\n",
    "* IT界名言：\"Don't reinvent the wheel.\"\n",
    "* 不過colorama模組倒不一定算是個現成的wheel。\n",
    "* 何不試試跳過任何外在模組，讓輸出也能五顏六色？\n",
    "---\n",
    "* 「千里明駝，不踏山間路。」-- 宋．王炎《蝶戀花》\n",
    "* 「千里明駝，勇闖山間路。」-- 民國．Alex Van《花戀蝶》"
   ]
  },
  {
   "cell_type": "markdown",
   "metadata": {},
   "source": [
    "<div style=\"color: SteelBlue; font-family: 'Ubuntu Mono', 'Inconsolata', 'Noto Sans TC'; font-size: 300%; font-weight: 700;\">\n",
    "開始閉門造車(輪)\n"
   ]
  },
  {
   "cell_type": "markdown",
   "metadata": {},
   "source": [
    "<div style=\"text-align:center\"><img src=\"https://hackmd.io/_uploads/B1qh2r_IT.png\" width=\"900\"/></div>"
   ]
  },
  {
   "cell_type": "markdown",
   "metadata": {},
   "source": [
    "<div style=\"color: DarkSalmon; font-family: 'Ubuntu Mono', 'Inconsolata', 'Noto Sans TC'; font-size: 250%; font-weight: 700;\">\n",
    "利用ANSI Escape Sequences來製造特殊效果\n",
    "\n",
    "</div>\n",
    "<br>\n",
    "<div style=\"font-family: 'Inconsolata', 'Noto Sans TC'; font-size: 135%; color: Gainsboro\">\n",
    "\n",
    "* [ANSI Escape Sequences](https://gist.github.com/fnky/458719343aabd01cfb17a3a4f7296797)\n",
    "* 16色色碼表：\n",
    "    |Color Name|Fore Color Code|Back Color Code|\n",
    "    |--|--|--|\n",
    "    |Black|30|40|\n",
    "    |Red|31|41|\n",
    "    |Green|32|42|\n",
    "    |Yellow|33|43|\n",
    "    |Blue|34|44|\n",
    "    |Magenta|35|45|\n",
    "    |Cyan|36|46|\n",
    "    |White|37|47|\n",
    "    |Bright Black|90|100|\n",
    "    |Bright Red|91|101|\n",
    "    |Bright Green|92|102|\n",
    "    |Bright Yellow|93|103|\n",
    "    |Bright Blue|94|104|\n",
    "    |Bright Magenta|95|105|\n",
    "    |Bright Cyan|96|106|\n",
    "    |Bright White|97|107|\n",
    "    |Default|39|49|\n",
    "    |Reset|0|0|\n",
    "* RGB Colors: More modern terminals supports Truecolor (24-bit RGB), which allows you to set foreground and background colors using RGB.\n",
    "    * These escape sequences are usually not well documented.\n",
    "        |ESC Code Sequence|Description|\n",
    "        |--|--|\n",
    "        |ESC[38;2;{r};{g};{b}m|Set foreground color as RGB.|\n",
    "        |ESC[48;2;{r};{g};{b}m|Set background color as RGB.|\n",
    "    * 範例：\n",
    "        ```\n",
    "        print('\\x1b[38;2;255;124;135m\\x1b[48;2;199;230;127mHello, world.')\n",
    "        ```\n",
    "    * 輸出：\n",
    "        <div style=\"text-align:center\"><img src=\"https://hackmd.io/_uploads/rykngLuLT.png\" width=\"400\"/></div>\n",
    "    \n",
    "\n",
    "\n"
   ]
  },
  {
   "cell_type": "code",
   "execution_count": null,
   "metadata": {},
   "outputs": [],
   "source": [
    "print()\n",
    "print('\\x1b[38;2;255;124;135m\\x1b[48;2;199;230;127mHello, world.')\n",
    "print()"
   ]
  },
  {
   "cell_type": "code",
   "execution_count": null,
   "metadata": {},
   "outputs": [],
   "source": [
    "class Colors():\n",
    "    class Fore():\n",
    "        BLACK = '\\x1b[30m'\n",
    "        RED = '\\x1b[31m'\n",
    "        GREEN = '\\x1b[32m'\n",
    "        YELLOW = '\\x1b[33m'\n",
    "        BLUE = '\\x1b[34m'\n",
    "        MAGENTA = '\\x1b[35m'\n",
    "        CYAN = '\\x1b[36m'\n",
    "        WHITE = '\\x1b[37m'\n",
    "        BRIGHT_BLACK = '\\x1b[90m'\n",
    "        BRIGHT_RED = '\\x1b[91m'\n",
    "        BRIGHT_GREEN = '\\x1b[92m'\n",
    "        BRIGHT_YELLOW = '\\x1b[93m'\n",
    "        BRIGHT_BLUE = '\\x1b[94m'\n",
    "        BRIGHT_MAGENTA = '\\x1b[95m'\n",
    "        BRIGHT_CYAN = '\\x1b[96m'\n",
    "        BRIGHT_WHITE = '\\x1b[97m'\n",
    "        DEFAULT = '\\x1b[39m'\n",
    "\n",
    "    class Back():\n",
    "        BLACK = '\\x1b[40m'\n",
    "        RED = '\\x1b[41m'\n",
    "        GREEN = '\\x1b[42m'\n",
    "        YELLOW = '\\x1b[43m'\n",
    "        BLUE = '\\x1b[44m'\n",
    "        MAGENTA = '\\x1b[45m'\n",
    "        CYAN = '\\x1b[46m'\n",
    "        WHITE = '\\x1b[47m'\n",
    "        BRIGHT_BLACK = '\\x1b[100m'\n",
    "        BRIGHT_RED = '\\x1b[101m'\n",
    "        BRIGHT_GREEN = '\\x1b[102m'\n",
    "        BRIGHT_YELLOW = '\\x1b[103m'\n",
    "        BRIGHT_BLUE = '\\x1b[104m'\n",
    "        BRIGHT_MAGENTA = '\\x1b[105m'\n",
    "        BRIGHT_CYAN = '\\x1b[106m'\n",
    "        BRIGHT_WHITE = '\\x1b[107m'\n",
    "        DEFAULT = '\\x1b[49m'\n",
    "\n",
    "\n",
    "print(f'{Colors.Fore.MAGENTA}{Colors.Back.YELLOW}*黃底洋紅字*')\n",
    "print(f'{Colors.Fore.BRIGHT_MAGENTA}{Colors.Back.BRIGHT_YELLOW}*黃底洋紅字(淺)*')\n",
    "print(f'{Colors.Back.RED}{Colors.Fore.BLUE}*紅底藍字*')\n",
    "print(f'{Colors.Back.BRIGHT_RED}{Colors.Fore.BRIGHT_BLUE}*紅底藍字(淺)*')\n",
    "print(f'{Colors.Fore.BLACK}{Colors.Back.CYAN}*青底黑字*')\n",
    "print(f'{Colors.Fore.BRIGHT_BLACK}{Colors.Back.BRIGHT_CYAN}*青底黑字(淺)*')\n",
    "print(f'{Colors.Back.WHITE}{Colors.Fore.GREEN}*白底綠字*')\n",
    "print(f'{Colors.Back.BRIGHT_WHITE}{Colors.Fore.BRIGHT_GREEN}*白底綠字(淺)*')\n",
    "print(f'{Colors.Fore.DEFAULT}{Colors.Back.DEFAULT}*還原設定*')\n"
   ]
  },
  {
   "cell_type": "markdown",
   "metadata": {},
   "source": [
    "<div style=\"text-align:center\"><img src=\"https://hackmd.io/_uploads/r1mSyb9Ja.png\" width=\"350\"/></div>"
   ]
  },
  {
   "cell_type": "code",
   "execution_count": null,
   "metadata": {},
   "outputs": [],
   "source": [
    "import random as rd\n",
    "import time\n",
    "\n",
    "class Colors():\n",
    "    class Fore():\n",
    "        BLACK = '\\x1b[30m'\n",
    "        RED = '\\x1b[31m'\n",
    "        GREEN = '\\x1b[32m'\n",
    "        YELLOW = '\\x1b[33m'\n",
    "        BLUE = '\\x1b[34m'\n",
    "        MAGENTA = '\\x1b[35m'\n",
    "        CYAN = '\\x1b[36m'\n",
    "        WHITE = '\\x1b[37m'\n",
    "        BRIGHT_BLACK = '\\x1b[90m'\n",
    "        BRIGHT_RED = '\\x1b[91m'\n",
    "        BRIGHT_GREEN = '\\x1b[92m'\n",
    "        BRIGHT_YELLOW = '\\x1b[93m'\n",
    "        BRIGHT_BLUE = '\\x1b[94m'\n",
    "        BRIGHT_MAGENTA = '\\x1b[95m'\n",
    "        BRIGHT_CYAN = '\\x1b[96m'\n",
    "        BRIGHT_WHITE = '\\x1b[97m'\n",
    "        DEFAULT = '\\x1b[39m'\n",
    "\n",
    "    class Back():\n",
    "        BLACK = '\\x1b[40m'\n",
    "        RED = '\\x1b[41m'\n",
    "        GREEN = '\\x1b[42m'\n",
    "        YELLOW = '\\x1b[43m'\n",
    "        BLUE = '\\x1b[44m'\n",
    "        MAGENTA = '\\x1b[45m'\n",
    "        CYAN = '\\x1b[46m'\n",
    "        WHITE = '\\x1b[47m'\n",
    "        BRIGHT_BLACK = '\\x1b[100m'\n",
    "        BRIGHT_RED = '\\x1b[101m'\n",
    "        BRIGHT_GREEN = '\\x1b[102m'\n",
    "        BRIGHT_YELLOW = '\\x1b[103m'\n",
    "        BRIGHT_BLUE = '\\x1b[104m'\n",
    "        BRIGHT_MAGENTA = '\\x1b[105m'\n",
    "        BRIGHT_CYAN = '\\x1b[106m'\n",
    "        BRIGHT_WHITE = '\\x1b[107m'\n",
    "        DEFAULT = '\\x1b[49m'\n",
    "\n",
    "def color_me(chars: str) -> str:\n",
    "    return ''.join([f'{Colors.Back.DEFAULT}{Colors.Fore.DEFAULT}{char}'\n",
    "                    if char == ' ' else\n",
    "                    f'\\x1b[38;2;{(r := rd.randint(0, 255))};{(g := rd.randint(0, 255))};{(b := rd.randint(0, 255))}m\\x1b[48;2;{r};{g};{b}m{char}'\n",
    "                    for char in chars])\n",
    "\n",
    "print()\n",
    "ends = []\n",
    "ends.append('            ▇▇▇▇▇▇▇▇▇▇  ▇▇      ▇▇  ▇▇▇▇▇▇▇▇▇       ▇▇▇▇▇▇▇▇▇  ▇▇▇     ▇▇  ▇▇▇▇▇ ')\n",
    "ends.append('                ▇▇      ▇▇      ▇▇  ▇▇              ▇▇         ▇▇▇▇    ▇▇  ▇▇   ▇▇ ')\n",
    "ends.append('                ▇▇      ▇▇      ▇▇  ▇▇              ▇▇         ▇▇ ▇▇   ▇▇  ▇▇     ▇▇ ')\n",
    "ends.append('                ▇▇      ▇▇▇▇▇▇▇▇▇▇  ▇▇▇▇▇▇▇▇▇       ▇▇▇▇▇▇▇▇▇  ▇▇  ▇▇  ▇▇  ▇▇       ▇ ')\n",
    "ends.append('                ▇▇      ▇▇      ▇▇  ▇▇              ▇▇         ▇▇   ▇▇ ▇▇  ▇▇     ▇▇ ')\n",
    "ends.append('                ▇▇      ▇▇      ▇▇  ▇▇              ▇▇         ▇▇    ▇▇▇▇  ▇▇   ▇▇ ')\n",
    "ends.append('                ▇▇      ▇▇      ▇▇  ▇▇▇▇▇▇▇▇▇       ▇▇▇▇▇▇▇▇▇  ▇▇     ▇▇▇  ▇▇▇▇▇ ')\n",
    "ends.append(' ')\n",
    "\n",
    "LOOPS = 10\n",
    "INTERVAL_SECONDS = 1\n",
    "\n",
    "for _ in range(LOOPS):\n",
    "    for end in ends:\n",
    "        print(color_me(end))\n",
    "    time.sleep(INTERVAL_SECONDS)\n",
    "    print('\\033[9A')\n",
    "\n",
    "print('\\033[6B')\n",
    "print()\n",
    "# print('\\x1b[38;2;255;124;135mHello, world')\n",
    "# print('\\x1b[38;2;153;137;91mHello, world')\n",
    "# '\\x1b[107m'"
   ]
  },
  {
   "cell_type": "code",
   "execution_count": null,
   "metadata": {},
   "outputs": [],
   "source": [
    "print('\\033[38;2;{120};{37};{214}mHello, world')"
   ]
  }
 ],
 "metadata": {
  "kernelspec": {
   "display_name": "Python 3",
   "language": "python",
   "name": "python3"
  },
  "language_info": {
   "codemirror_mode": {
    "name": "ipython",
    "version": 3
   },
   "file_extension": ".py",
   "mimetype": "text/x-python",
   "name": "python",
   "nbconvert_exporter": "python",
   "pygments_lexer": "ipython3",
   "version": "3.12.1"
  }
 },
 "nbformat": 4,
 "nbformat_minor": 2
}
